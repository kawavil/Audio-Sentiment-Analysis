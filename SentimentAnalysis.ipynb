{
 "cells": [
  {
   "cell_type": "code",
   "execution_count": 83,
   "metadata": {},
   "outputs": [],
   "source": [
    "import pandas as pd\n",
    "import numpy as np\n",
    "import os\n",
    "import nltk\n",
    "from nltk.tokenize import word_tokenize\n",
    "from nltk.corpus import wordnet\n",
    "from nltk.stem import WordNetLemmatizer\n",
    "from nltk.corpus import wordnet\n",
    "from pydub import AudioSegment\n",
    "from pydub.silence import split_on_silence\n",
    "import speech_recognition as sr\n",
    "from vaderSentiment.vaderSentiment import SentimentIntensityAnalyzer"
   ]
  },
  {
   "cell_type": "code",
   "execution_count": null,
   "metadata": {},
   "outputs": [],
   "source": [
    "nltk.download('punkt')\n",
    "nltk.download('averaged_perceptron_tagger')\n",
    "nltk.download('wordnet')"
   ]
  },
  {
   "cell_type": "markdown",
   "metadata": {},
   "source": [
    "### Audio Transcription"
   ]
  },
  {
   "cell_type": "code",
   "execution_count": 42,
   "metadata": {},
   "outputs": [],
   "source": [
    "r = sr.Recognizer()"
   ]
  },
  {
   "cell_type": "code",
   "execution_count": 69,
   "metadata": {},
   "outputs": [],
   "source": [
    "###creating audio chunks based on the the silence observed and then converting it to the text file\n",
    "def get_audio_transcript(path):\n",
    "    lines = []\n",
    "    # open the audio file using pydub\n",
    "    sound = AudioSegment.from_wav(path)\n",
    "    # split audio sound where silence is 700 miliseconds or more and get chunks\n",
    "    chunks = split_on_silence(sound,\n",
    "        # experiment with this value for your target audio file\n",
    "        min_silence_len = 500,\n",
    "        # adjust this per requirement\n",
    "        silence_thresh = sound.dBFS-14,\n",
    "        # keep the silence for 1 second, adjustable as well\n",
    "        keep_silence=500,\n",
    "    )\n",
    "    folder_name = \"audio-chunks\"\n",
    "    # create a directory to store the audio chunks\n",
    "\n",
    "    if not os.path.isdir(folder_name):\n",
    "        os.mkdir(folder_name)\n",
    "    whole_text = \"\"\n",
    "    # process each chunk\n",
    "    for i, audio_chunk in enumerate(chunks, start=1):\n",
    "        # export audio chunk and save it in\n",
    "        # the `folder_name` directory.\n",
    "        chunk_filename = os.path.join(folder_name, f\"chunk{i}.wav\")\n",
    "        audio_chunk.export(chunk_filename, format=\"wav\")\n",
    "        # recognize the chunk\n",
    "        with sr.AudioFile(chunk_filename) as source:\n",
    "            audio_listened = r.record(source)\n",
    "            # try converting it to text\n",
    "            try:\n",
    "                text = r.recognize_google(audio_listened)\n",
    "            except sr.UnknownValueError as e:\n",
    "                continue\n",
    "\n",
    "            else:\n",
    "                text = f\"{text.capitalize()}. \"\n",
    "                lines.append(text)\n",
    "    return lines"
   ]
  },
  {
   "cell_type": "code",
   "execution_count": null,
   "metadata": {},
   "outputs": [],
   "source": [
    "path = \"./Data/audio.wav\"\n",
    "textoupput = get_audio_transcript(path)\n",
    "#print(*textoupput, sep='\\n')\n"
   ]
  },
  {
   "cell_type": "code",
   "execution_count": 77,
   "metadata": {},
   "outputs": [
    {
     "data": {
      "text/html": [
       "<div>\n",
       "<style scoped>\n",
       "    .dataframe tbody tr th:only-of-type {\n",
       "        vertical-align: middle;\n",
       "    }\n",
       "\n",
       "    .dataframe tbody tr th {\n",
       "        vertical-align: top;\n",
       "    }\n",
       "\n",
       "    .dataframe thead th {\n",
       "        text-align: right;\n",
       "    }\n",
       "</style>\n",
       "<table border=\"1\" class=\"dataframe\">\n",
       "  <thead>\n",
       "    <tr style=\"text-align: right;\">\n",
       "      <th></th>\n",
       "      <th>Summary</th>\n",
       "    </tr>\n",
       "  </thead>\n",
       "  <tbody>\n",
       "    <tr>\n",
       "      <th>0</th>\n",
       "      <td>Maybe i am mad but i am now the proud owner of...</td>\n",
       "    </tr>\n",
       "    <tr>\n",
       "      <th>1</th>\n",
       "      <td>Bendy iphone 6.</td>\n",
       "    </tr>\n",
       "    <tr>\n",
       "      <th>2</th>\n",
       "      <td>So much bigger than iphone 4s finally got to s...</td>\n",
       "    </tr>\n",
       "    <tr>\n",
       "      <th>3</th>\n",
       "      <td>Not revolutionary at all but it's absolutely g...</td>\n",
       "    </tr>\n",
       "    <tr>\n",
       "      <th>4</th>\n",
       "      <td>I want one iphone 6.</td>\n",
       "    </tr>\n",
       "  </tbody>\n",
       "</table>\n",
       "</div>"
      ],
      "text/plain": [
       "                                             Summary\n",
       "0  Maybe i am mad but i am now the proud owner of...\n",
       "1                                   Bendy iphone 6. \n",
       "2  So much bigger than iphone 4s finally got to s...\n",
       "3  Not revolutionary at all but it's absolutely g...\n",
       "4                              I want one iphone 6. "
      ]
     },
     "execution_count": 77,
     "metadata": {},
     "output_type": "execute_result"
    }
   ],
   "source": [
    "df = pd.DataFrame(textoupput, columns=['Summary'])\n",
    "df.head()\n"
   ]
  },
  {
   "cell_type": "code",
   "execution_count": 78,
   "metadata": {},
   "outputs": [],
   "source": [
    "###Saving the text file to dataset folder which can be used for further processing\n",
    "df.to_csv('./Data/Transcripted.csv', index=False)"
   ]
  },
  {
   "cell_type": "markdown",
   "metadata": {},
   "source": [
    "### Loading and pre-processing"
   ]
  },
  {
   "cell_type": "code",
   "execution_count": 120,
   "metadata": {},
   "outputs": [
    {
     "name": "stdout",
     "output_type": "stream",
     "text": [
      "(27, 1)\n"
     ]
    },
    {
     "data": {
      "text/html": [
       "<div>\n",
       "<style scoped>\n",
       "    .dataframe tbody tr th:only-of-type {\n",
       "        vertical-align: middle;\n",
       "    }\n",
       "\n",
       "    .dataframe tbody tr th {\n",
       "        vertical-align: top;\n",
       "    }\n",
       "\n",
       "    .dataframe thead th {\n",
       "        text-align: right;\n",
       "    }\n",
       "</style>\n",
       "<table border=\"1\" class=\"dataframe\">\n",
       "  <thead>\n",
       "    <tr style=\"text-align: right;\">\n",
       "      <th></th>\n",
       "      <th>Summary</th>\n",
       "    </tr>\n",
       "  </thead>\n",
       "  <tbody>\n",
       "    <tr>\n",
       "      <th>0</th>\n",
       "      <td>Maybe i am mad but i am now the proud owner of...</td>\n",
       "    </tr>\n",
       "    <tr>\n",
       "      <th>1</th>\n",
       "      <td>Bendy iphone 6.</td>\n",
       "    </tr>\n",
       "    <tr>\n",
       "      <th>2</th>\n",
       "      <td>So much bigger than iphone 4s finally got to s...</td>\n",
       "    </tr>\n",
       "    <tr>\n",
       "      <th>3</th>\n",
       "      <td>Not revolutionary at all but it's absolutely g...</td>\n",
       "    </tr>\n",
       "    <tr>\n",
       "      <th>4</th>\n",
       "      <td>I want one iphone 6.</td>\n",
       "    </tr>\n",
       "  </tbody>\n",
       "</table>\n",
       "</div>"
      ],
      "text/plain": [
       "                                             Summary\n",
       "0  Maybe i am mad but i am now the proud owner of...\n",
       "1                                   Bendy iphone 6. \n",
       "2  So much bigger than iphone 4s finally got to s...\n",
       "3  Not revolutionary at all but it's absolutely g...\n",
       "4                              I want one iphone 6. "
      ]
     },
     "execution_count": 120,
     "metadata": {},
     "output_type": "execute_result"
    }
   ],
   "source": [
    "df = pd.read_csv('./Data/Transcripted.csv', usecols=['Summary']).astype(str)\n",
    "print(df.shape)\n",
    "df.head()"
   ]
  },
  {
   "cell_type": "code",
   "execution_count": 121,
   "metadata": {},
   "outputs": [],
   "source": [
    "### creating tokens, part of speech tagging and base words(lemmatization) \n",
    "df['tokens']=\"\"\n",
    "df['pos_tags']=\"\"\n",
    "df['lemma']=\"\""
   ]
  },
  {
   "cell_type": "code",
   "execution_count": 122,
   "metadata": {},
   "outputs": [],
   "source": [
    "for i in range(len(df['Summary'])):\n",
    "    df['tokens'][i]= word_tokenize(df['Summary'][i])"
   ]
  },
  {
   "cell_type": "code",
   "execution_count": 123,
   "metadata": {},
   "outputs": [],
   "source": [
    "for i in range(len(df['tokens'])):\n",
    "    for j in range(len(df['tokens'][i])):\n",
    "        df['pos_tags'][i] = nltk.pos_tag(df['tokens'][i])"
   ]
  },
  {
   "cell_type": "code",
   "execution_count": 124,
   "metadata": {},
   "outputs": [],
   "source": [
    "# Lemmatize with POS Tag\n",
    "def nltk_tag_to_wordnet_tag(nltk_tag):\n",
    "    if nltk_tag.startswith('J'):\n",
    "        return wordnet.ADJ\n",
    "    elif nltk_tag.startswith('V'):\n",
    "        return wordnet.VERB\n",
    "    elif nltk_tag.startswith('N'):\n",
    "        return wordnet.NOUN\n",
    "    elif nltk_tag.startswith('R'):\n",
    "        return wordnet.ADV\n",
    "    else:\n",
    "        return None"
   ]
  },
  {
   "cell_type": "code",
   "execution_count": 125,
   "metadata": {},
   "outputs": [],
   "source": [
    "def lemmatize_sentence(sentence):\n",
    "    wordnet_tagged = map(lambda x: (x[0], nltk_tag_to_wordnet_tag(x[1])), df['pos_tags'][i])\n",
    "    lemmatized_sentence = []\n",
    "    for word, tag in wordnet_tagged:\n",
    "        if tag is None:\n",
    "            #if there is no available tag, append the token as is\n",
    "            lemmatized_sentence.append(word)\n",
    "        else:\n",
    "            #else use the tag to lemmatize the token\n",
    "            lemmatized_sentence.append(lemmatizer.lemmatize(word, tag))\n",
    "    return \" \".join(lemmatized_sentence)"
   ]
  },
  {
   "cell_type": "code",
   "execution_count": 126,
   "metadata": {},
   "outputs": [],
   "source": [
    "lemmatizer = WordNetLemmatizer()\n",
    "for i in range(len(df['pos_tags'])):\n",
    "    for j in range(len(df['pos_tags'][i])):\n",
    "        df['lemma'][i] = lemmatize_sentence(df['pos_tags'][i][j][0])\n"
   ]
  },
  {
   "cell_type": "code",
   "execution_count": 127,
   "metadata": {},
   "outputs": [
    {
     "data": {
      "text/html": [
       "<div>\n",
       "<style scoped>\n",
       "    .dataframe tbody tr th:only-of-type {\n",
       "        vertical-align: middle;\n",
       "    }\n",
       "\n",
       "    .dataframe tbody tr th {\n",
       "        vertical-align: top;\n",
       "    }\n",
       "\n",
       "    .dataframe thead th {\n",
       "        text-align: right;\n",
       "    }\n",
       "</style>\n",
       "<table border=\"1\" class=\"dataframe\">\n",
       "  <thead>\n",
       "    <tr style=\"text-align: right;\">\n",
       "      <th></th>\n",
       "      <th>Summary</th>\n",
       "      <th>tokens</th>\n",
       "      <th>pos_tags</th>\n",
       "      <th>lemma</th>\n",
       "    </tr>\n",
       "  </thead>\n",
       "  <tbody>\n",
       "    <tr>\n",
       "      <th>0</th>\n",
       "      <td>Maybe i am mad but i am now the proud owner of...</td>\n",
       "      <td>[Maybe, i, am, mad, but, i, am, now, the, prou...</td>\n",
       "      <td>[(Maybe, RB), (i, JJ), (am, VBP), (mad, JJ), (...</td>\n",
       "      <td>Maybe i be mad but i be now the proud owner of...</td>\n",
       "    </tr>\n",
       "    <tr>\n",
       "      <th>1</th>\n",
       "      <td>Bendy iphone 6.</td>\n",
       "      <td>[Bendy, iphone, 6, .]</td>\n",
       "      <td>[(Bendy, NNP), (iphone, NN), (6, CD), (., .)]</td>\n",
       "      <td>Bendy iphone 6 .</td>\n",
       "    </tr>\n",
       "    <tr>\n",
       "      <th>2</th>\n",
       "      <td>So much bigger than iphone 4s finally got to s...</td>\n",
       "      <td>[So, much, bigger, than, iphone, 4s, finally, ...</td>\n",
       "      <td>[(So, RB), (much, RB), (bigger, JJR), (than, I...</td>\n",
       "      <td>So much big than iphone 4s finally get to see ...</td>\n",
       "    </tr>\n",
       "    <tr>\n",
       "      <th>3</th>\n",
       "      <td>Not revolutionary at all but it's absolutely g...</td>\n",
       "      <td>[Not, revolutionary, at, all, but, it, 's, abs...</td>\n",
       "      <td>[(Not, RB), (revolutionary, JJ), (at, IN), (al...</td>\n",
       "      <td>Not revolutionary at all but it 's absolutely ...</td>\n",
       "    </tr>\n",
       "    <tr>\n",
       "      <th>4</th>\n",
       "      <td>I want one iphone 6.</td>\n",
       "      <td>[I, want, one, iphone, 6, .]</td>\n",
       "      <td>[(I, PRP), (want, VBP), (one, CD), (iphone, NN...</td>\n",
       "      <td>I want one iphone 6 .</td>\n",
       "    </tr>\n",
       "  </tbody>\n",
       "</table>\n",
       "</div>"
      ],
      "text/plain": [
       "                                             Summary  \\\n",
       "0  Maybe i am mad but i am now the proud owner of...   \n",
       "1                                   Bendy iphone 6.    \n",
       "2  So much bigger than iphone 4s finally got to s...   \n",
       "3  Not revolutionary at all but it's absolutely g...   \n",
       "4                              I want one iphone 6.    \n",
       "\n",
       "                                              tokens  \\\n",
       "0  [Maybe, i, am, mad, but, i, am, now, the, prou...   \n",
       "1                              [Bendy, iphone, 6, .]   \n",
       "2  [So, much, bigger, than, iphone, 4s, finally, ...   \n",
       "3  [Not, revolutionary, at, all, but, it, 's, abs...   \n",
       "4                       [I, want, one, iphone, 6, .]   \n",
       "\n",
       "                                            pos_tags  \\\n",
       "0  [(Maybe, RB), (i, JJ), (am, VBP), (mad, JJ), (...   \n",
       "1      [(Bendy, NNP), (iphone, NN), (6, CD), (., .)]   \n",
       "2  [(So, RB), (much, RB), (bigger, JJR), (than, I...   \n",
       "3  [(Not, RB), (revolutionary, JJ), (at, IN), (al...   \n",
       "4  [(I, PRP), (want, VBP), (one, CD), (iphone, NN...   \n",
       "\n",
       "                                               lemma  \n",
       "0  Maybe i be mad but i be now the proud owner of...  \n",
       "1                                   Bendy iphone 6 .  \n",
       "2  So much big than iphone 4s finally get to see ...  \n",
       "3  Not revolutionary at all but it 's absolutely ...  \n",
       "4                              I want one iphone 6 .  "
      ]
     },
     "execution_count": 127,
     "metadata": {},
     "output_type": "execute_result"
    }
   ],
   "source": [
    "df.head()"
   ]
  },
  {
   "cell_type": "code",
   "execution_count": 128,
   "metadata": {},
   "outputs": [],
   "source": [
    "### function to calculate the sentiment score based on the positive and negative values\n",
    "def sentimental_Score(sentence):\n",
    "    analyzer = SentimentIntensityAnalyzer()\n",
    "    vs = analyzer.polarity_scores(sentence)\n",
    "    score=vs['compound']\n",
    "    if not vs['pos'] > 0.1:\n",
    "        if vs['pos'] - vs['neg'] <= 0:\n",
    "            return 'negative'\n",
    "    elif not vs['neg'] > 0.1:\n",
    "        if vs['pos'] - vs['neg'] > 0:\n",
    "            return 'positive'\n",
    "    else:\n",
    "        return 'Neutral'"
   ]
  },
  {
   "cell_type": "code",
   "execution_count": 129,
   "metadata": {},
   "outputs": [],
   "source": [
    "df['sentiment'] = df['lemma'].apply(lambda line: sentimental_Score(line))"
   ]
  },
  {
   "cell_type": "code",
   "execution_count": 130,
   "metadata": {},
   "outputs": [
    {
     "data": {
      "text/html": [
       "<div>\n",
       "<style scoped>\n",
       "    .dataframe tbody tr th:only-of-type {\n",
       "        vertical-align: middle;\n",
       "    }\n",
       "\n",
       "    .dataframe tbody tr th {\n",
       "        vertical-align: top;\n",
       "    }\n",
       "\n",
       "    .dataframe thead th {\n",
       "        text-align: right;\n",
       "    }\n",
       "</style>\n",
       "<table border=\"1\" class=\"dataframe\">\n",
       "  <thead>\n",
       "    <tr style=\"text-align: right;\">\n",
       "      <th></th>\n",
       "      <th>Summary</th>\n",
       "      <th>tokens</th>\n",
       "      <th>pos_tags</th>\n",
       "      <th>lemma</th>\n",
       "      <th>sentiment</th>\n",
       "    </tr>\n",
       "  </thead>\n",
       "  <tbody>\n",
       "    <tr>\n",
       "      <th>0</th>\n",
       "      <td>Maybe i am mad but i am now the proud owner of...</td>\n",
       "      <td>[Maybe, i, am, mad, but, i, am, now, the, prou...</td>\n",
       "      <td>[(Maybe, RB), (i, JJ), (am, VBP), (mad, JJ), (...</td>\n",
       "      <td>Maybe i be mad but i be now the proud owner of...</td>\n",
       "      <td>Neutral</td>\n",
       "    </tr>\n",
       "    <tr>\n",
       "      <th>1</th>\n",
       "      <td>Bendy iphone 6.</td>\n",
       "      <td>[Bendy, iphone, 6, .]</td>\n",
       "      <td>[(Bendy, NNP), (iphone, NN), (6, CD), (., .)]</td>\n",
       "      <td>Bendy iphone 6 .</td>\n",
       "      <td>negative</td>\n",
       "    </tr>\n",
       "    <tr>\n",
       "      <th>2</th>\n",
       "      <td>So much bigger than iphone 4s finally got to s...</td>\n",
       "      <td>[So, much, bigger, than, iphone, 4s, finally, ...</td>\n",
       "      <td>[(So, RB), (much, RB), (bigger, JJR), (than, I...</td>\n",
       "      <td>So much big than iphone 4s finally get to see ...</td>\n",
       "      <td>negative</td>\n",
       "    </tr>\n",
       "    <tr>\n",
       "      <th>3</th>\n",
       "      <td>Not revolutionary at all but it's absolutely g...</td>\n",
       "      <td>[Not, revolutionary, at, all, but, it, 's, abs...</td>\n",
       "      <td>[(Not, RB), (revolutionary, JJ), (at, IN), (al...</td>\n",
       "      <td>Not revolutionary at all but it 's absolutely ...</td>\n",
       "      <td>positive</td>\n",
       "    </tr>\n",
       "    <tr>\n",
       "      <th>4</th>\n",
       "      <td>I want one iphone 6.</td>\n",
       "      <td>[I, want, one, iphone, 6, .]</td>\n",
       "      <td>[(I, PRP), (want, VBP), (one, CD), (iphone, NN...</td>\n",
       "      <td>I want one iphone 6 .</td>\n",
       "      <td>positive</td>\n",
       "    </tr>\n",
       "  </tbody>\n",
       "</table>\n",
       "</div>"
      ],
      "text/plain": [
       "                                             Summary  \\\n",
       "0  Maybe i am mad but i am now the proud owner of...   \n",
       "1                                   Bendy iphone 6.    \n",
       "2  So much bigger than iphone 4s finally got to s...   \n",
       "3  Not revolutionary at all but it's absolutely g...   \n",
       "4                              I want one iphone 6.    \n",
       "\n",
       "                                              tokens  \\\n",
       "0  [Maybe, i, am, mad, but, i, am, now, the, prou...   \n",
       "1                              [Bendy, iphone, 6, .]   \n",
       "2  [So, much, bigger, than, iphone, 4s, finally, ...   \n",
       "3  [Not, revolutionary, at, all, but, it, 's, abs...   \n",
       "4                       [I, want, one, iphone, 6, .]   \n",
       "\n",
       "                                            pos_tags  \\\n",
       "0  [(Maybe, RB), (i, JJ), (am, VBP), (mad, JJ), (...   \n",
       "1      [(Bendy, NNP), (iphone, NN), (6, CD), (., .)]   \n",
       "2  [(So, RB), (much, RB), (bigger, JJR), (than, I...   \n",
       "3  [(Not, RB), (revolutionary, JJ), (at, IN), (al...   \n",
       "4  [(I, PRP), (want, VBP), (one, CD), (iphone, NN...   \n",
       "\n",
       "                                               lemma sentiment  \n",
       "0  Maybe i be mad but i be now the proud owner of...   Neutral  \n",
       "1                                   Bendy iphone 6 .  negative  \n",
       "2  So much big than iphone 4s finally get to see ...  negative  \n",
       "3  Not revolutionary at all but it 's absolutely ...  positive  \n",
       "4                              I want one iphone 6 .  positive  "
      ]
     },
     "execution_count": 130,
     "metadata": {},
     "output_type": "execute_result"
    }
   ],
   "source": [
    "df.head()"
   ]
  },
  {
   "cell_type": "code",
   "execution_count": 137,
   "metadata": {},
   "outputs": [],
   "source": [
    "df_1 = df[['Summary','sentiment']]"
   ]
  },
  {
   "cell_type": "code",
   "execution_count": 139,
   "metadata": {},
   "outputs": [
    {
     "data": {
      "text/html": [
       "<div>\n",
       "<style scoped>\n",
       "    .dataframe tbody tr th:only-of-type {\n",
       "        vertical-align: middle;\n",
       "    }\n",
       "\n",
       "    .dataframe tbody tr th {\n",
       "        vertical-align: top;\n",
       "    }\n",
       "\n",
       "    .dataframe thead th {\n",
       "        text-align: right;\n",
       "    }\n",
       "</style>\n",
       "<table border=\"1\" class=\"dataframe\">\n",
       "  <thead>\n",
       "    <tr style=\"text-align: right;\">\n",
       "      <th></th>\n",
       "      <th>Summary</th>\n",
       "      <th>sentiment</th>\n",
       "    </tr>\n",
       "  </thead>\n",
       "  <tbody>\n",
       "    <tr>\n",
       "      <th>0</th>\n",
       "      <td>Maybe i am mad but i am now the proud owner of...</td>\n",
       "      <td>Neutral</td>\n",
       "    </tr>\n",
       "    <tr>\n",
       "      <th>1</th>\n",
       "      <td>Bendy iphone 6.</td>\n",
       "      <td>negative</td>\n",
       "    </tr>\n",
       "    <tr>\n",
       "      <th>2</th>\n",
       "      <td>So much bigger than iphone 4s finally got to s...</td>\n",
       "      <td>negative</td>\n",
       "    </tr>\n",
       "    <tr>\n",
       "      <th>3</th>\n",
       "      <td>Not revolutionary at all but it's absolutely g...</td>\n",
       "      <td>positive</td>\n",
       "    </tr>\n",
       "    <tr>\n",
       "      <th>4</th>\n",
       "      <td>I want one iphone 6.</td>\n",
       "      <td>positive</td>\n",
       "    </tr>\n",
       "  </tbody>\n",
       "</table>\n",
       "</div>"
      ],
      "text/plain": [
       "                                             Summary sentiment\n",
       "0  Maybe i am mad but i am now the proud owner of...   Neutral\n",
       "1                                   Bendy iphone 6.   negative\n",
       "2  So much bigger than iphone 4s finally got to s...  negative\n",
       "3  Not revolutionary at all but it's absolutely g...  positive\n",
       "4                              I want one iphone 6.   positive"
      ]
     },
     "execution_count": 139,
     "metadata": {},
     "output_type": "execute_result"
    }
   ],
   "source": [
    "df_1.head()"
   ]
  },
  {
   "cell_type": "code",
   "execution_count": 140,
   "metadata": {},
   "outputs": [],
   "source": [
    "###Adding flags where emotion/sentiment is changing \n",
    "df_1.iloc[0,0] = '['+str(df_1.iloc[0,1])+'] '+str(df_1.iloc[0,0])\n",
    "for i in range(1,len(df_1)):\n",
    "    if df_1.iloc[i,1] != df_1.iloc[i-1,1]:\n",
    "        df_1.iloc[i,0] = '['+str(df_1.iloc[i,1])+'] '+str(df_1.iloc[i,0])"
   ]
  },
  {
   "cell_type": "code",
   "execution_count": 142,
   "metadata": {},
   "outputs": [],
   "source": [
    "###saving the file to Data folder\n",
    "with open('./Data/output.txt', 'w') as f:\n",
    "    f.write(df_1['Summary'].str.cat(sep='\\n'))"
   ]
  },
  {
   "cell_type": "code",
   "execution_count": null,
   "metadata": {},
   "outputs": [],
   "source": []
  }
 ],
 "metadata": {
  "kernelspec": {
   "display_name": "Python 3",
   "language": "python",
   "name": "python3"
  },
  "language_info": {
   "codemirror_mode": {
    "name": "ipython",
    "version": 3
   },
   "file_extension": ".py",
   "mimetype": "text/x-python",
   "name": "python",
   "nbconvert_exporter": "python",
   "pygments_lexer": "ipython3",
   "version": "3.7.7"
  }
 },
 "nbformat": 4,
 "nbformat_minor": 4
}
